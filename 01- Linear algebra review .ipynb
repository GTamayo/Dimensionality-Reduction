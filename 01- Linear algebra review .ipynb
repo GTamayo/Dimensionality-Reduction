{
 "cells": [
  {
   "cell_type": "markdown",
   "metadata": {},
   "source": [
    "## Linear algebra review"
   ]
  },
  {
   "cell_type": "markdown",
   "metadata": {},
   "source": [
    "We briefly review some necessary background in linear algebra. Let C be\n",
    "an M × N matrix with real-valued entries; for a term-document matrix, all\n",
    "RANK entries are in fact non-negative. The rank of a matrix is the number of linearly\n",
    "independent rows (or columns) in it; thus, rank(C) ≤ min{M, N}. "
   ]
  },
  {
   "cell_type": "code",
   "execution_count": null,
   "metadata": {
    "collapsed": true
   },
   "outputs": [],
   "source": [
    "import numpy as np\n",
    "import pandas as pd\n",
    "from sklearn.decomposition import TruncatedSVD"
   ]
  },
  {
   "cell_type": "code",
   "execution_count": 8,
   "metadata": {
    "collapsed": false
   },
   "outputs": [
    {
     "data": {
      "text/plain": [
       "array([[1, 4, 2, 1, 4, 4],\n",
       "       [4, 4, 2, 4, 2, 3],\n",
       "       [1, 4, 3, 1, 1, 1],\n",
       "       [3, 2, 3, 4, 4, 3],\n",
       "       [1, 2, 2, 2, 2, 1]])"
      ]
     },
     "execution_count": 8,
     "metadata": {},
     "output_type": "execute_result"
    }
   ],
   "source": [
    "M = 5\n",
    "N = 6\n",
    "SEED = 0\n",
    "\n",
    "np.random.seed(0)\n",
    "C = np.random.randint(1,5,size=(M, N))\n",
    "C"
   ]
  },
  {
   "cell_type": "markdown",
   "metadata": {},
   "source": [
    "### Diagonal matrix"
   ]
  },
  {
   "cell_type": "markdown",
   "metadata": {},
   "source": [
    "A square r × r matrix all of whose off-diagonal entries are zero is called a diagonal matrix; its rank is equal to the number of non-zero diagonal entries (rank = 5)."
   ]
  },
  {
   "cell_type": "code",
   "execution_count": 10,
   "metadata": {
    "collapsed": false
   },
   "outputs": [
    {
     "data": {
      "text/plain": [
       "array([[1, 0, 0, 0],\n",
       "       [0, 4, 0, 0],\n",
       "       [0, 0, 2, 0],\n",
       "       [0, 0, 0, 1]])"
      ]
     },
     "execution_count": 10,
     "metadata": {},
     "output_type": "execute_result"
    }
   ],
   "source": [
    "r = 4\n",
    "np.random.seed(0)\n",
    "C = np.random.randint(1,5,size=(r, r))\n",
    "np.diag(np.diag(C))"
   ]
  },
  {
   "cell_type": "markdown",
   "metadata": {},
   "source": [
    "### Identity matrix"
   ]
  },
  {
   "cell_type": "markdown",
   "metadata": {},
   "source": [
    "If all r diagonal entries of such a diagonal matrix are 1, it is called the identity matrix of dimension r and represented by Ir."
   ]
  },
  {
   "cell_type": "code",
   "execution_count": 12,
   "metadata": {
    "collapsed": false
   },
   "outputs": [
    {
     "data": {
      "text/plain": [
       "array([[ 1.,  0.,  0.,  0.],\n",
       "       [ 0.,  1.,  0.,  0.],\n",
       "       [ 0.,  0.,  1.,  0.],\n",
       "       [ 0.,  0.,  0.,  1.]])"
      ]
     },
     "execution_count": 12,
     "metadata": {},
     "output_type": "execute_result"
    }
   ],
   "source": [
    "np.identity(4)"
   ]
  },
  {
   "cell_type": "markdown",
   "metadata": {},
   "source": [
    "### Eigenvalues and eigenvector"
   ]
  },
  {
   "cell_type": "markdown",
   "metadata": {},
   "source": [
    "For a square M × M matrix C and a vector ~x that is not all zeros, the values of λ satisfying\n",
    "\n",
    "C~x = λ~ (18.1)\n",
    "\n",
    "are called the eigenvalues of C. The N-vector ~x satisfying Equation (18.1) for an eigenvalue λ is the corresponding right eigenvector. The eigenvector corresponding to the eigenvalue of largest magnitude is called the principal eigenvector. In a similar fashion, the left eigenvectors of C are the M-vectors y such that\n",
    "\n",
    "yT C = λ~yT (18.2)\n",
    "\n",
    "The number of non-zero eigenvalues of C is at most rank(C)."
   ]
  },
  {
   "cell_type": "markdown",
   "metadata": {},
   "source": [
    "#### Found eigenvalues in matrix"
   ]
  },
  {
   "cell_type": "markdown",
   "metadata": {},
   "source": [
    " (C − λIM)~x = 0\n",
    " f |(C − λIM)| = 0\n",
    " \n",
    "where |S| denotes the determinant of a square matrix S.\n",
    "\n",
    "The equation is an Mth order polynomial equation in λ and can have at most M roots,\n",
    "which are the eigenvalues of C. These eigenvalues can in general be complex,\n",
    "even if all entries of C are real."
   ]
  },
  {
   "cell_type": "markdown",
   "metadata": {},
   "source": [
    "Example 18.1: Consider the matrix"
   ]
  },
  {
   "cell_type": "code",
   "execution_count": 49,
   "metadata": {
    "collapsed": false
   },
   "outputs": [
    {
     "data": {
      "text/plain": [
       "array([[30,  0,  0],\n",
       "       [ 0, 20,  0],\n",
       "       [ 0,  0,  1]])"
      ]
     },
     "execution_count": 49,
     "metadata": {},
     "output_type": "execute_result"
    }
   ],
   "source": [
    "S = np.array([[30, 0, 0],\n",
    "              [0, 20, 0],\n",
    "              [0, 0, 1]])\n",
    "S"
   ]
  },
  {
   "cell_type": "markdown",
   "metadata": {},
   "source": [
    "Clearly the matrix has rank 3, and has 3 non-zero eigenvalues λ1 = 30, λ2 = 20 and\n",
    "λ3 = 1, with the three corresponding eigenvectors"
   ]
  },
  {
   "cell_type": "code",
   "execution_count": 50,
   "metadata": {
    "collapsed": false
   },
   "outputs": [
    {
     "name": "stdout",
     "output_type": "stream",
     "text": [
      "EigenValues: [ 30.  20.   1.]\n",
      "Eigenvectors: \n",
      "      x1 = [ 1.  0.  0.] \n",
      "      x2 = [ 0.  1.  0.] \n",
      "      x3 = [ 0.  0.  1.]\n"
     ]
    }
   ],
   "source": [
    "eigenvalues, eigenvectors = np.linalg.eig(S)\n",
    "print(\"EigenValues: {}\".format(eigenvalues))\n",
    "print(\"\"\"Eigenvectors: \n",
    "      x1 = {} \n",
    "      x2 = {} \n",
    "      x3 = {}\"\"\".format(eigenvectors[0],eigenvectors[1],eigenvectors[2]))"
   ]
  },
  {
   "cell_type": "markdown",
   "metadata": {},
   "source": [
    "For a symmetric matrix S, the eigenvectors corresponding to distinct eigenvalues\n",
    "are orthogonal. Further, if S is both real and symmetric, the eigenvalues\n",
    "are all real.\n"
   ]
  },
  {
   "cell_type": "code",
   "execution_count": 51,
   "metadata": {
    "collapsed": false
   },
   "outputs": [
    {
     "data": {
      "text/plain": [
       "array([[2, 1],\n",
       "       [1, 2]])"
      ]
     },
     "execution_count": 51,
     "metadata": {},
     "output_type": "execute_result"
    }
   ],
   "source": [
    "S = np.array([[2, 1],\n",
    "              [1, 2]])\n",
    "S"
   ]
  },
  {
   "cell_type": "markdown",
   "metadata": {},
   "source": [
    "From the characteristic equation |S − λI| = 0, we have the quadratic (2 − λ)\n",
    "2 − 1 =\n",
    "0, whose solutions yield the eigenvalues 3 and 1."
   ]
  },
  {
   "cell_type": "code",
   "execution_count": 52,
   "metadata": {
    "collapsed": true
   },
   "outputs": [],
   "source": [
    "eigenvalues, eigenvectors = np.linalg.eig(S)"
   ]
  },
  {
   "cell_type": "code",
   "execution_count": 53,
   "metadata": {
    "collapsed": false
   },
   "outputs": [
    {
     "data": {
      "text/plain": [
       "array([ 3.,  1.])"
      ]
     },
     "execution_count": 53,
     "metadata": {},
     "output_type": "execute_result"
    }
   ],
   "source": [
    "eigenvalues"
   ]
  },
  {
   "cell_type": "code",
   "execution_count": 54,
   "metadata": {
    "collapsed": false
   },
   "outputs": [
    {
     "data": {
      "text/plain": [
       "array([[ 0.70710678, -0.70710678],\n",
       "       [ 0.70710678,  0.70710678]])"
      ]
     },
     "execution_count": 54,
     "metadata": {},
     "output_type": "execute_result"
    }
   ],
   "source": [
    "eigenvectors"
   ]
  },
  {
   "cell_type": "code",
   "execution_count": null,
   "metadata": {
    "collapsed": true
   },
   "outputs": [],
   "source": []
  },
  {
   "cell_type": "code",
   "execution_count": null,
   "metadata": {
    "collapsed": true
   },
   "outputs": [],
   "source": []
  },
  {
   "cell_type": "code",
   "execution_count": null,
   "metadata": {
    "collapsed": true
   },
   "outputs": [],
   "source": []
  },
  {
   "cell_type": "code",
   "execution_count": null,
   "metadata": {
    "collapsed": true
   },
   "outputs": [],
   "source": []
  },
  {
   "cell_type": "code",
   "execution_count": null,
   "metadata": {
    "collapsed": true
   },
   "outputs": [],
   "source": []
  },
  {
   "cell_type": "code",
   "execution_count": 5,
   "metadata": {
    "collapsed": false
   },
   "outputs": [],
   "source": [
    "df = pd.DataFrame(data,columns=['d1','d2','d3','d4','d5','d6'], index=['ship','boat','ocean','voyage','trip'])"
   ]
  },
  {
   "cell_type": "code",
   "execution_count": 6,
   "metadata": {
    "collapsed": false
   },
   "outputs": [
    {
     "data": {
      "text/html": [
       "<div>\n",
       "<table border=\"1\" class=\"dataframe\">\n",
       "  <thead>\n",
       "    <tr style=\"text-align: right;\">\n",
       "      <th></th>\n",
       "      <th>d1</th>\n",
       "      <th>d2</th>\n",
       "      <th>d3</th>\n",
       "      <th>d4</th>\n",
       "      <th>d5</th>\n",
       "      <th>d6</th>\n",
       "    </tr>\n",
       "  </thead>\n",
       "  <tbody>\n",
       "    <tr>\n",
       "      <th>ship</th>\n",
       "      <td>1</td>\n",
       "      <td>0</td>\n",
       "      <td>1</td>\n",
       "      <td>0</td>\n",
       "      <td>0</td>\n",
       "      <td>0</td>\n",
       "    </tr>\n",
       "    <tr>\n",
       "      <th>boat</th>\n",
       "      <td>0</td>\n",
       "      <td>1</td>\n",
       "      <td>0</td>\n",
       "      <td>0</td>\n",
       "      <td>0</td>\n",
       "      <td>0</td>\n",
       "    </tr>\n",
       "    <tr>\n",
       "      <th>ocean</th>\n",
       "      <td>1</td>\n",
       "      <td>1</td>\n",
       "      <td>0</td>\n",
       "      <td>0</td>\n",
       "      <td>0</td>\n",
       "      <td>0</td>\n",
       "    </tr>\n",
       "    <tr>\n",
       "      <th>voyage</th>\n",
       "      <td>1</td>\n",
       "      <td>0</td>\n",
       "      <td>0</td>\n",
       "      <td>1</td>\n",
       "      <td>1</td>\n",
       "      <td>0</td>\n",
       "    </tr>\n",
       "    <tr>\n",
       "      <th>trip</th>\n",
       "      <td>0</td>\n",
       "      <td>0</td>\n",
       "      <td>0</td>\n",
       "      <td>1</td>\n",
       "      <td>0</td>\n",
       "      <td>1</td>\n",
       "    </tr>\n",
       "  </tbody>\n",
       "</table>\n",
       "</div>"
      ],
      "text/plain": [
       "        d1  d2  d3  d4  d5  d6\n",
       "ship     1   0   1   0   0   0\n",
       "boat     0   1   0   0   0   0\n",
       "ocean    1   1   0   0   0   0\n",
       "voyage   1   0   0   1   1   0\n",
       "trip     0   0   0   1   0   1"
      ]
     },
     "execution_count": 6,
     "metadata": {},
     "output_type": "execute_result"
    }
   ],
   "source": [
    "df"
   ]
  },
  {
   "cell_type": "code",
   "execution_count": 8,
   "metadata": {
    "collapsed": true
   },
   "outputs": [],
   "source": [
    "svd = TruncatedSVD(2)\n",
    "svd_desc = svd.fit_transform(df)"
   ]
  },
  {
   "cell_type": "code",
   "execution_count": 15,
   "metadata": {
    "collapsed": false
   },
   "outputs": [
    {
     "data": {
      "text/plain": [
       "array([[ 0.95225185, -0.47221518],\n",
       "       [ 0.2797116 , -0.52845914],\n",
       "       [ 1.02833465, -0.81491313],\n",
       "       [ 1.52028211,  0.55894647],\n",
       "       [ 0.56803026,  1.03116165]])"
      ]
     },
     "execution_count": 15,
     "metadata": {},
     "output_type": "execute_result"
    }
   ],
   "source": [
    "svd_desc"
   ]
  },
  {
   "cell_type": "code",
   "execution_count": 16,
   "metadata": {
    "collapsed": false
   },
   "outputs": [
    {
     "data": {
      "text/plain": [
       "(array([[  4.40347480e-01,  -2.96174360e-01,  -5.69497581e-01,\n",
       "           5.77350269e-01,  -2.46402144e-01],\n",
       "        [  1.29346349e-01,  -3.31450692e-01,   5.87021697e-01,\n",
       "           1.11022302e-16,  -7.27197008e-01],\n",
       "        [  4.75530263e-01,  -5.11115242e-01,   3.67689978e-01,\n",
       "           1.11022302e-16,   6.14358412e-01],\n",
       "        [  7.03020318e-01,   3.50572409e-01,  -1.54905878e-01,\n",
       "          -5.77350269e-01,  -1.59788154e-01],\n",
       "        [  2.62672838e-01,   6.46746769e-01,   4.14591704e-01,\n",
       "           5.77350269e-01,   8.66139898e-02]]),\n",
       " array([ 2.16250096,  1.59438237,  1.27529025,  1.        ,  0.39391525]),\n",
       " array([[  7.48623048e-01,   2.79711603e-01,   2.03628802e-01,\n",
       "           4.46563110e-01,   3.25095956e-01,   1.21467154e-01],\n",
       "        [ -2.86453991e-01,  -5.28459139e-01,  -1.85761186e-01,\n",
       "           6.25520701e-01,   2.19879758e-01,   4.05640944e-01],\n",
       "        [ -2.79711603e-01,   7.48623048e-01,  -4.46563110e-01,\n",
       "           2.03628802e-01,  -1.21467154e-01,   3.25095956e-01],\n",
       "        [ -4.99600361e-16,   2.22044605e-16,   5.77350269e-01,\n",
       "           1.38777878e-16,  -5.77350269e-01,   5.77350269e-01],\n",
       "        [  5.28459139e-01,  -2.86453991e-01,  -6.25520701e-01,\n",
       "          -1.85761186e-01,  -4.05640944e-01,   2.19879758e-01],\n",
       "        [  1.33181424e-16,  -1.20504739e-16,  -1.33181424e-16,\n",
       "          -5.77350269e-01,   5.77350269e-01,   5.77350269e-01]]))"
      ]
     },
     "execution_count": 16,
     "metadata": {},
     "output_type": "execute_result"
    }
   ],
   "source": [
    "np.linalg.svd(data)"
   ]
  },
  {
   "cell_type": "code",
   "execution_count": 19,
   "metadata": {
    "collapsed": false
   },
   "outputs": [
    {
     "data": {
      "text/plain": [
       "(array([[  4.40347480e-01,  -2.96174360e-01,  -5.69497581e-01,\n",
       "           5.77350269e-01,  -2.46402144e-01],\n",
       "        [  1.29346349e-01,  -3.31450692e-01,   5.87021697e-01,\n",
       "           1.11022302e-16,  -7.27197008e-01],\n",
       "        [  4.75530263e-01,  -5.11115242e-01,   3.67689978e-01,\n",
       "           1.11022302e-16,   6.14358412e-01],\n",
       "        [  7.03020318e-01,   3.50572409e-01,  -1.54905878e-01,\n",
       "          -5.77350269e-01,  -1.59788154e-01],\n",
       "        [  2.62672838e-01,   6.46746769e-01,   4.14591704e-01,\n",
       "           5.77350269e-01,   8.66139898e-02]]),\n",
       " array([ 2.16250096,  1.59438237,  1.27529025,  1.        ,  0.39391525]),\n",
       " array([[  7.48623048e-01,   2.79711603e-01,   2.03628802e-01,\n",
       "           4.46563110e-01,   3.25095956e-01,   1.21467154e-01],\n",
       "        [ -2.86453991e-01,  -5.28459139e-01,  -1.85761186e-01,\n",
       "           6.25520701e-01,   2.19879758e-01,   4.05640944e-01],\n",
       "        [ -2.79711603e-01,   7.48623048e-01,  -4.46563110e-01,\n",
       "           2.03628802e-01,  -1.21467154e-01,   3.25095956e-01],\n",
       "        [ -4.99600361e-16,   2.22044605e-16,   5.77350269e-01,\n",
       "           1.38777878e-16,  -5.77350269e-01,   5.77350269e-01],\n",
       "        [  5.28459139e-01,  -2.86453991e-01,  -6.25520701e-01,\n",
       "          -1.85761186e-01,  -4.05640944e-01,   2.19879758e-01],\n",
       "        [  1.33181424e-16,  -1.20504739e-16,  -1.33181424e-16,\n",
       "          -5.77350269e-01,   5.77350269e-01,   5.77350269e-01]]))"
      ]
     },
     "execution_count": 19,
     "metadata": {},
     "output_type": "execute_result"
    }
   ],
   "source": [
    "np.linalg.svd(data)"
   ]
  },
  {
   "cell_type": "code",
   "execution_count": null,
   "metadata": {
    "collapsed": true
   },
   "outputs": [],
   "source": []
  }
 ],
 "metadata": {
  "celltoolbar": "Raw Cell Format",
  "kernelspec": {
   "display_name": "Python 3",
   "language": "python",
   "name": "python3"
  },
  "language_info": {
   "codemirror_mode": {
    "name": "ipython",
    "version": 3
   },
   "file_extension": ".py",
   "mimetype": "text/x-python",
   "name": "python",
   "nbconvert_exporter": "python",
   "pygments_lexer": "ipython3",
   "version": "3.5.2"
  }
 },
 "nbformat": 4,
 "nbformat_minor": 0
}
